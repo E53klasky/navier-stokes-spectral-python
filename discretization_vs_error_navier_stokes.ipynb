{
 "cells": [
  {
   "cell_type": "code",
   "execution_count": 1,
   "id": "c2e26906",
   "metadata": {},
   "outputs": [
    {
     "data": {
      "text/plain": [
       "'\\nCreate Your Own Navier-Stokes Spectral Method Simulation (With Python)\\nPhilip Mocz (2023), @PMocz\\n\\nSimulate the Navier-Stokes equations (incompressible viscous fluid) \\nwith a Spectral method\\n\\nv_t + (v.nabla) v = nu * nabla^2 v + nabla P\\ndiv(v) = 0\\n\\n'"
      ]
     },
     "execution_count": 1,
     "metadata": {},
     "output_type": "execute_result"
    }
   ],
   "source": [
    "import numpy as np\n",
    "import matplotlib.pyplot as plt\n",
    "\n",
    "\"\"\"\n",
    "Create Your Own Navier-Stokes Spectral Method Simulation (With Python)\n",
    "Philip Mocz (2023), @PMocz\n",
    "\n",
    "Simulate the Navier-Stokes equations (incompressible viscous fluid) \n",
    "with a Spectral method\n",
    "\n",
    "v_t + (v.nabla) v = nu * nabla^2 v + nabla P\n",
    "div(v) = 0\n",
    "\n",
    "\"\"\""
   ]
  },
  {
   "cell_type": "code",
   "execution_count": 2,
   "id": "d946df27",
   "metadata": {},
   "outputs": [],
   "source": [
    "def poisson_solve( rho, kSq_inv ):\n",
    "\t\"\"\" solve the Poisson equation, given source field rho \"\"\"\n",
    "\tV_hat = -(np.fft.fftn( rho )) * kSq_inv\n",
    "\tV = np.real(np.fft.ifftn(V_hat))\n",
    "\treturn V"
   ]
  },
  {
   "cell_type": "code",
   "execution_count": 3,
   "id": "0513866a",
   "metadata": {},
   "outputs": [],
   "source": [
    "def diffusion_solve( v, dt, nu, kSq ):\n",
    "\t\"\"\" solve the diffusion equation over a timestep dt, given viscosity nu \"\"\"\n",
    "\tv_hat = (np.fft.fftn( v )) / (1.0+dt*nu*kSq)\n",
    "\tv = np.real(np.fft.ifftn(v_hat))\n",
    "\treturn v"
   ]
  },
  {
   "cell_type": "code",
   "execution_count": 4,
   "id": "569cd393",
   "metadata": {},
   "outputs": [],
   "source": [
    "def grad(v, kx, ky):\n",
    "\t\"\"\" return gradient of v \"\"\"\n",
    "\tv_hat = np.fft.fftn(v)\n",
    "\tdvx = np.real(np.fft.ifftn( 1j*kx * v_hat))\n",
    "\tdvy = np.real(np.fft.ifftn( 1j*ky * v_hat))\n",
    "\treturn dvx, dvy"
   ]
  },
  {
   "cell_type": "code",
   "execution_count": 5,
   "id": "1d323c15",
   "metadata": {},
   "outputs": [],
   "source": [
    "def div(vx, vy, kx, ky):\n",
    "\t\"\"\" return divergence of (vx,vy) \"\"\"\n",
    "\tdvx_x = np.real(np.fft.ifftn( 1j*kx * np.fft.fftn(vx)))\n",
    "\tdvy_y = np.real(np.fft.ifftn( 1j*ky * np.fft.fftn(vy)))\n",
    "\treturn dvx_x + dvy_y"
   ]
  },
  {
   "cell_type": "code",
   "execution_count": 6,
   "id": "2cb83d36",
   "metadata": {},
   "outputs": [],
   "source": [
    "def curl(vx, vy, kx, ky):\n",
    "\t\"\"\" return curl of (vx,vy) \"\"\"\n",
    "\tdvx_y = np.real(np.fft.ifftn( 1j*ky * np.fft.fftn(vx)))\n",
    "\tdvy_x = np.real(np.fft.ifftn( 1j*kx * np.fft.fftn(vy)))\n",
    "\treturn dvy_x - dvx_y"
   ]
  },
  {
   "cell_type": "code",
   "execution_count": 7,
   "id": "c9f4df52",
   "metadata": {},
   "outputs": [],
   "source": [
    "def apply_dealias(f, dealias):\n",
    "\t\"\"\" apply 2/3 rule dealias to field f \"\"\"\n",
    "\tf_hat = dealias * np.fft.fftn(f)\n",
    "\treturn np.real(np.fft.ifftn( f_hat ))"
   ]
  },
  {
   "cell_type": "code",
   "execution_count": 10,
   "id": "97e5f38d",
   "metadata": {},
   "outputs": [],
   "source": [
    "def runSim(grid_res, tStep):\n",
    "    \"\"\" Navier-Stokes Simulation \"\"\"\n",
    "    # Store output at every 0.1 second\n",
    "    outputTimeInterval = 0.1\n",
    "    outputData = np.zeros((grid_res,grid_res,int(1/outputTimeInterval)))\n",
    "    # temporary variables\n",
    "    outputTime = 0.1\n",
    "    cnt = 0\n",
    "\n",
    "    # Simulation parameters\n",
    "    N         = grid_res     # Spatial resolution\n",
    "    t         = 0       # current time of the simulation\n",
    "    tEnd      = 1       # time at which simulation ends\n",
    "    dt        = tStep   # timestep\n",
    "    tOut      = 0.01    # draw frequency\n",
    "    nu        = 0.001   # viscosity\n",
    "    plotRealTime = True # switch on for plotting as the simulation goes along\n",
    "    \n",
    "    # Domain [0,1] x [0,1]\n",
    "    L = 1    \n",
    "    xlin = np.linspace(0,L, num=N+1)  # Note: x=0 & x=1 are the same point!\n",
    "    xlin = xlin[0:N]                  # chop off periodic point\n",
    "    xx, yy = np.meshgrid(xlin, xlin)\n",
    "    \n",
    "    # Intial Condition (vortex)\n",
    "    vx = -np.sin(2*np.pi*yy)\n",
    "    vy =  np.sin(2*np.pi*xx*2) \n",
    "    \n",
    "    # Fourier Space Variables\n",
    "    klin = 2.0 * np.pi / L * np.arange(-N/2, N/2)\n",
    "    kmax = np.max(klin)\n",
    "    kx, ky = np.meshgrid(klin, klin)\n",
    "    kx = np.fft.ifftshift(kx)\n",
    "    ky = np.fft.ifftshift(ky)\n",
    "    kSq = kx**2 + ky**2\n",
    "    kSq_inv = 1.0 / kSq\n",
    "    kSq_inv[kSq==0] = 1\n",
    "    \n",
    "    # dealias with the 2/3 rule\n",
    "    dealias = (np.abs(kx) < (2./3.)*kmax) & (np.abs(ky) < (2./3.)*kmax)\n",
    "    \n",
    "    # number of timesteps\n",
    "    Nt = int(np.ceil(tEnd/dt))\n",
    "    \n",
    "    # prep figure\n",
    "    fig = plt.figure(figsize=(4,4), dpi=80)\n",
    "    outputCount = 1\n",
    "    \n",
    "    #Main Loop\n",
    "    for i in range(Nt):\n",
    "\n",
    "        # Advection: rhs = -(v.grad)v\n",
    "        dvx_x, dvx_y = grad(vx, kx, ky)\n",
    "        dvy_x, dvy_y = grad(vy, kx, ky)\n",
    "\n",
    "        rhs_x = -(vx * dvx_x + vy * dvx_y)\n",
    "        rhs_y = -(vx * dvy_x + vy * dvy_y)\n",
    "\n",
    "        rhs_x = apply_dealias(rhs_x, dealias)\n",
    "        rhs_y = apply_dealias(rhs_y, dealias)\n",
    "    \n",
    "        vx += dt * rhs_x\n",
    "        vy += dt * rhs_y\n",
    "\n",
    "        # Poisson solve for pressure\n",
    "        div_rhs = div(rhs_x, rhs_y, kx, ky)\n",
    "        P = poisson_solve( div_rhs, kSq_inv )\n",
    "        dPx, dPy = grad(P, kx, ky)\n",
    "\n",
    "        # Correction (to eliminate divergence component of velocity)\n",
    "        vx += - dt * dPx\n",
    "        vy += - dt * dPy\n",
    "\n",
    "        # Diffusion solve (implicit)\n",
    "        vx = diffusion_solve( vx, dt, nu, kSq )\n",
    "        vy = diffusion_solve( vy, dt, nu, kSq )\n",
    "\n",
    "        # vorticity (for plotting)\n",
    "        wz = curl(vx, vy, kx, ky)\n",
    "\n",
    "        # update time\n",
    "        t += dt\n",
    "        #print(t)\n",
    "        \n",
    "        ## plot in real time\n",
    "        #plotThisTurn = False\n",
    "        #if t + dt > outputCount*tOut:\n",
    "        #    plotThisTurn = True\n",
    "        #if (plotRealTime and plotThisTurn) or (i == Nt-1):\n",
    "        #\n",
    "        #    plt.cla()\n",
    "        #    plt.imshow(wz, cmap = 'RdBu')\n",
    "        #    plt.clim(-20,20)\n",
    "        #    ax = plt.gca()\n",
    "        #    ax.invert_yaxis()\n",
    "        #    ax.get_xaxis().set_visible(False)\n",
    "        #    ax.get_yaxis().set_visible(False)\n",
    "        #    ax.set_aspect('equal')\n",
    "        #    plt.pause(0.001)\n",
    "        #    outputCount += 1\n",
    "        # Store output\n",
    "        if(i*dt==outputTime):\n",
    "            outputData[:,:,cnt] = wz\n",
    "            outputTime = outputTime + outputTimeInterval\n",
    "            cnt = cnt+1\n",
    "    return outputData"
   ]
  },
  {
   "cell_type": "code",
   "execution_count": 22,
   "id": "f0803caa",
   "metadata": {},
   "outputs": [],
   "source": [
    "def computeOutputDiff(output1, output2):\n",
    "    \"\"\" Difference in ouput of high-res vs. low-res sim. output1 is lower resolution than output2 \"\"\"\n",
    "    [h1, w1, d] = output1.shape\n",
    "    [h2, w2, d] = output2.shape\n",
    "    \n",
    "    if(w1 > w2):\n",
    "        print('first data must be smaller resolution than second')\n",
    "        return\n",
    "    \n",
    "    # volume to store differences\n",
    "    delta = np.zeros((h1,w1,d))\n",
    "    \n",
    "    #Compute factor by which output2 is higher in res than output1 (assmes that is is multiple of 2)\n",
    "    f = int(w2/w1)\n",
    "    print('f:',f)\n",
    "    \n",
    "    for i in range(h1):\n",
    "        for j in range(w1):\n",
    "            for k in range(d):\n",
    "                delta[i,j,k] = abs(output1[i,j,k] - output2[f*i, f*j, k])\n",
    "    \n",
    "    return delta"
   ]
  },
  {
   "cell_type": "code",
   "execution_count": 12,
   "id": "64af71c7",
   "metadata": {},
   "outputs": [
    {
     "name": "stderr",
     "output_type": "stream",
     "text": [
      "/var/folders/1c/3fmc6kxd5kzcmjws0d7kmhw85hdtjh/T/ipykernel_27675/1156348424.py:36: RuntimeWarning: divide by zero encountered in divide\n",
      "  kSq_inv = 1.0 / kSq\n"
     ]
    },
    {
     "name": "stdout",
     "output_type": "stream",
     "text": [
      "(400, 400, 10)\n"
     ]
    },
    {
     "data": {
      "text/plain": [
       "<Figure size 320x320 with 0 Axes>"
      ]
     },
     "metadata": {},
     "output_type": "display_data"
    },
    {
     "data": {
      "text/plain": [
       "<Figure size 320x320 with 0 Axes>"
      ]
     },
     "metadata": {},
     "output_type": "display_data"
    }
   ],
   "source": [
    "# Output 1 (unsable after about 0.5 seconds)\n",
    "#grid_res = 200\n",
    "#tStep = 0.002\n",
    "#output1 = runSim(grid_res,tStep)\n",
    "#print(np.size(output1))\n",
    "    \n",
    "# Output 2\n",
    "grid_res = 400\n",
    "tStep = 0.001\n",
    "output2 = runSim(grid_res,tStep)\n",
    "print(output2.shape)\n",
    "\n",
    "# Output 3\n",
    "grid_res = 800\n",
    "tStep = 0.001/2\n",
    "output3 = runSim(grid_res,tStep)\n",
    "#print(output3.shape)\n",
    "    \n",
    "# Save figure\n",
    "#plt.savefig('navier-stokes-spectral.png',dpi=240)\n",
    "#plt.show()\n",
    "    \n",
    "#return 0"
   ]
  },
  {
   "cell_type": "code",
   "execution_count": 23,
   "id": "1740de43",
   "metadata": {},
   "outputs": [
    {
     "name": "stdout",
     "output_type": "stream",
     "text": [
      "f: 2\n",
      "0.08647590922722692\n"
     ]
    }
   ],
   "source": [
    "difference = computeOutputDiff(output2, output3)\n",
    "print(np.max(difference))"
   ]
  },
  {
   "cell_type": "code",
   "execution_count": null,
   "id": "936c0a6f",
   "metadata": {},
   "outputs": [],
   "source": []
  }
 ],
 "metadata": {
  "kernelspec": {
   "display_name": "Python 3 (ipykernel)",
   "language": "python",
   "name": "python3"
  },
  "language_info": {
   "codemirror_mode": {
    "name": "ipython",
    "version": 3
   },
   "file_extension": ".py",
   "mimetype": "text/x-python",
   "name": "python",
   "nbconvert_exporter": "python",
   "pygments_lexer": "ipython3",
   "version": "3.10.10"
  }
 },
 "nbformat": 4,
 "nbformat_minor": 5
}
