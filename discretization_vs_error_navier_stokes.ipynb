{
 "cells": [
  {
   "cell_type": "code",
   "execution_count": 7,
   "id": "c2e26906",
   "metadata": {},
   "outputs": [
    {
     "data": {
      "text/plain": [
       "'\\nCreate Your Own Navier-Stokes Spectral Method Simulation (With Python)\\nPhilip Mocz (2023), @PMocz\\n\\nSimulate the Navier-Stokes equations (incompressible viscous fluid) \\nwith a Spectral method\\n\\nv_t + (v.nabla) v = nu * nabla^2 v + nabla P\\ndiv(v) = 0\\n\\n'"
      ]
     },
     "execution_count": 7,
     "metadata": {},
     "output_type": "execute_result"
    }
   ],
   "source": [
    "import numpy as np\n",
    "import matplotlib.pyplot as plt\n",
    "\n",
    "\"\"\"\n",
    "Create Your Own Navier-Stokes Spectral Method Simulation (With Python)\n",
    "Philip Mocz (2023), @PMocz\n",
    "\n",
    "Simulate the Navier-Stokes equations (incompressible viscous fluid) \n",
    "with a Spectral method\n",
    "\n",
    "v_t + (v.nabla) v = nu * nabla^2 v + nabla P\n",
    "div(v) = 0\n",
    "\n",
    "\"\"\""
   ]
  },
  {
   "cell_type": "code",
   "execution_count": 8,
   "id": "d946df27",
   "metadata": {},
   "outputs": [],
   "source": [
    "def poisson_solve( rho, kSq_inv ):\n",
    "\t\"\"\" solve the Poisson equation, given source field rho \"\"\"\n",
    "\tV_hat = -(np.fft.fftn( rho )) * kSq_inv\n",
    "\tV = np.real(np.fft.ifftn(V_hat))\n",
    "\treturn V"
   ]
  },
  {
   "cell_type": "code",
   "execution_count": 9,
   "id": "0513866a",
   "metadata": {},
   "outputs": [],
   "source": [
    "def diffusion_solve( v, dt, nu, kSq ):\n",
    "\t\"\"\" solve the diffusion equation over a timestep dt, given viscosity nu \"\"\"\n",
    "\tv_hat = (np.fft.fftn( v )) / (1.0+dt*nu*kSq)\n",
    "\tv = np.real(np.fft.ifftn(v_hat))\n",
    "\treturn v"
   ]
  },
  {
   "cell_type": "code",
   "execution_count": 10,
   "id": "569cd393",
   "metadata": {},
   "outputs": [],
   "source": [
    "def grad(v, kx, ky):\n",
    "\t\"\"\" return gradient of v \"\"\"\n",
    "\tv_hat = np.fft.fftn(v)\n",
    "\tdvx = np.real(np.fft.ifftn( 1j*kx * v_hat))\n",
    "\tdvy = np.real(np.fft.ifftn( 1j*ky * v_hat))\n",
    "\treturn dvx, dvy"
   ]
  },
  {
   "cell_type": "code",
   "execution_count": 11,
   "id": "1d323c15",
   "metadata": {},
   "outputs": [],
   "source": [
    "def div(vx, vy, kx, ky):\n",
    "\t\"\"\" return divergence of (vx,vy) \"\"\"\n",
    "\tdvx_x = np.real(np.fft.ifftn( 1j*kx * np.fft.fftn(vx)))\n",
    "\tdvy_y = np.real(np.fft.ifftn( 1j*ky * np.fft.fftn(vy)))\n",
    "\treturn dvx_x + dvy_y"
   ]
  },
  {
   "cell_type": "code",
   "execution_count": 15,
   "id": "2cb83d36",
   "metadata": {},
   "outputs": [],
   "source": [
    "def curl(vx, vy, kx, ky):\n",
    "\t\"\"\" return curl of (vx,vy) \"\"\"\n",
    "\tdvx_y = np.real(np.fft.ifftn( 1j*ky * np.fft.fftn(vx)))\n",
    "\tdvy_x = np.real(np.fft.ifftn( 1j*kx * np.fft.fftn(vy)))\n",
    "\treturn dvy_x - dvx_y"
   ]
  },
  {
   "cell_type": "code",
   "execution_count": 16,
   "id": "c9f4df52",
   "metadata": {},
   "outputs": [],
   "source": [
    "def apply_dealias(f, dealias):\n",
    "\t\"\"\" apply 2/3 rule dealias to field f \"\"\"\n",
    "\tf_hat = dealias * np.fft.fftn(f)\n",
    "\treturn np.real(np.fft.ifftn( f_hat ))"
   ]
  },
  {
   "cell_type": "code",
   "execution_count": 17,
   "id": "64af71c7",
   "metadata": {},
   "outputs": [],
   "source": [
    "def main():\n",
    "\t\"\"\" Navier-Stokes Simulation \"\"\"\n",
    "\t\n",
    "\t# Simulation parameters\n",
    "\tN         = 400     # Spatial resolution\n",
    "\tt         = 0       # current time of the simulation\n",
    "\ttEnd      = 1       # time at which simulation ends\n",
    "\tdt        = 0.001   # timestep\n",
    "\ttOut      = 0.01    # draw frequency\n",
    "\tnu        = 0.001   # viscosity\n",
    "\tplotRealTime = True # switch on for plotting as the simulation goes along\n",
    "\t\n",
    "\t# Domain [0,1] x [0,1]\n",
    "\tL = 1    \n",
    "\txlin = np.linspace(0,L, num=N+1)  # Note: x=0 & x=1 are the same point!\n",
    "\txlin = xlin[0:N]                  # chop off periodic point\n",
    "\txx, yy = np.meshgrid(xlin, xlin)\n",
    "\t\n",
    "\t# Intial Condition (vortex)\n",
    "\tvx = -np.sin(2*np.pi*yy)\n",
    "\tvy =  np.sin(2*np.pi*xx*2) \n",
    "\t\n",
    "\t# Fourier Space Variables\n",
    "\tklin = 2.0 * np.pi / L * np.arange(-N/2, N/2)\n",
    "\tkmax = np.max(klin)\n",
    "\tkx, ky = np.meshgrid(klin, klin)\n",
    "\tkx = np.fft.ifftshift(kx)\n",
    "\tky = np.fft.ifftshift(ky)\n",
    "\tkSq = kx**2 + ky**2\n",
    "\tkSq_inv = 1.0 / kSq\n",
    "\tkSq_inv[kSq==0] = 1\n",
    "\t\n",
    "\t# dealias with the 2/3 rule\n",
    "\tdealias = (np.abs(kx) < (2./3.)*kmax) & (np.abs(ky) < (2./3.)*kmax)\n",
    "\t\n",
    "\t# number of timesteps\n",
    "\tNt = int(np.ceil(tEnd/dt))\n",
    "\t\n",
    "\t# prep figure\n",
    "\tfig = plt.figure(figsize=(4,4), dpi=80)\n",
    "\toutputCount = 1\n",
    "\t\n",
    "\t#Main Loop\n",
    "\tfor i in range(Nt):\n",
    "\n",
    "\t\t# Advection: rhs = -(v.grad)v\n",
    "\t\tdvx_x, dvx_y = grad(vx, kx, ky)\n",
    "\t\tdvy_x, dvy_y = grad(vy, kx, ky)\n",
    "\t\t\n",
    "\t\trhs_x = -(vx * dvx_x + vy * dvx_y)\n",
    "\t\trhs_y = -(vx * dvy_x + vy * dvy_y)\n",
    "\t\t\n",
    "\t\trhs_x = apply_dealias(rhs_x, dealias)\n",
    "\t\trhs_y = apply_dealias(rhs_y, dealias)\n",
    "\n",
    "\t\tvx += dt * rhs_x\n",
    "\t\tvy += dt * rhs_y\n",
    "\t\t\n",
    "\t\t# Poisson solve for pressure\n",
    "\t\tdiv_rhs = div(rhs_x, rhs_y, kx, ky)\n",
    "\t\tP = poisson_solve( div_rhs, kSq_inv )\n",
    "\t\tdPx, dPy = grad(P, kx, ky)\n",
    "\t\t\n",
    "\t\t# Correction (to eliminate divergence component of velocity)\n",
    "\t\tvx += - dt * dPx\n",
    "\t\tvy += - dt * dPy\n",
    "\t\t\n",
    "\t\t# Diffusion solve (implicit)\n",
    "\t\tvx = diffusion_solve( vx, dt, nu, kSq )\n",
    "\t\tvy = diffusion_solve( vy, dt, nu, kSq )\n",
    "\t\t\n",
    "\t\t# vorticity (for plotting)\n",
    "\t\twz = curl(vx, vy, kx, ky)\n",
    "\t\t\n",
    "\t\t# update time\n",
    "\t\tt += dt\n",
    "\t\tprint(t)\n",
    "\t\t\n",
    "\t\t# plot in real time\n",
    "\t\tplotThisTurn = False\n",
    "\t\tif t + dt > outputCount*tOut:\n",
    "\t\t\tplotThisTurn = True\n",
    "\t\tif (plotRealTime and plotThisTurn) or (i == Nt-1):\n",
    "\t\t\t\n",
    "\t\t\tplt.cla()\n",
    "\t\t\tplt.imshow(wz, cmap = 'RdBu')\n",
    "\t\t\tplt.clim(-20,20)\n",
    "\t\t\tax = plt.gca()\n",
    "\t\t\tax.invert_yaxis()\n",
    "\t\t\tax.get_xaxis().set_visible(False)\n",
    "\t\t\tax.get_yaxis().set_visible(False)\t\n",
    "\t\t\tax.set_aspect('equal')\t\n",
    "\t\t\tplt.pause(0.001)\n",
    "\t\t\toutputCount += 1\n",
    "\t\t\t\n",
    "\t\t\t\n",
    "\t# Save figure\n",
    "\tplt.savefig('navier-stokes-spectral.png',dpi=240)\n",
    "\tplt.show()\n",
    "\t\n",
    "\treturn 0\n",
    "\t"
   ]
  },
  {
   "cell_type": "code",
   "execution_count": null,
   "id": "e31c6795",
   "metadata": {},
   "outputs": [],
   "source": [
    "if __name__== \"__main__\":\n",
    "  main()"
   ]
  }
 ],
 "metadata": {
  "kernelspec": {
   "display_name": "Python 3 (ipykernel)",
   "language": "python",
   "name": "python3"
  },
  "language_info": {
   "codemirror_mode": {
    "name": "ipython",
    "version": 3
   },
   "file_extension": ".py",
   "mimetype": "text/x-python",
   "name": "python",
   "nbconvert_exporter": "python",
   "pygments_lexer": "ipython3",
   "version": "3.10.10"
  }
 },
 "nbformat": 4,
 "nbformat_minor": 5
}
